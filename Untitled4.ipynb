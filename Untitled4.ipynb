{
  "nbformat": 4,
  "nbformat_minor": 0,
  "metadata": {
    "colab": {
      "name": "Untitled4.ipynb",
      "provenance": [],
      "mount_file_id": "1p4bjn75N5ouoIfgPmYXEuTNGdnoJcWYv",
      "authorship_tag": "ABX9TyPP2sSbkaJY271PKaT6WoRN",
      "include_colab_link": true
    },
    "kernelspec": {
      "name": "python3",
      "display_name": "Python 3"
    }
  },
  "cells": [
    {
      "cell_type": "markdown",
      "metadata": {
        "id": "view-in-github",
        "colab_type": "text"
      },
      "source": [
        "<a href=\"https://colab.research.google.com/github/hoangnhan12-arc/CS114.K21.KHTN/blob/master/Untitled4.ipynb\" target=\"_parent\"><img src=\"https://colab.research.google.com/assets/colab-badge.svg\" alt=\"Open In Colab\"/></a>"
      ]
    },
    {
      "cell_type": "code",
      "metadata": {
        "id": "im06O8DXCOe6",
        "colab_type": "code",
        "outputId": "a4ca466d-8976-43af-889e-db82b6271035",
        "colab": {
          "base_uri": "https://localhost:8080/",
          "height": 51
        }
      },
      "source": [
        "from keras.preprocessing.image import ImageDataGenerator, img_to_array, load_img\n",
        "import numpy as np\n",
        "#import argparse\n",
        "\n",
        "\"\"\"\n",
        "ap = argparse.ArgumentParser()\n",
        "ap.add_argument(\"-i\", \"--image\", required=True, help=\"path to the input image\")\n",
        "ap.add_argument(\"-o\", \"--output\", required=True, help=\"path to output directory to store augmentation examples\")\n",
        "ap.add_argument(\"-p\", \"--prefix\", type=str, default=\"image\", help=\"output filename prefix\")\n",
        "args = vars(ap.parse_args())\n",
        "print(\"[INFO] loading example image...\")\n",
        "image = load_img(args[\"image\"])\n",
        "image = img_to_array(image)\n",
        "image = np.expand_dims(image, axis=0)\n",
        "aug = ImageDataGenerator(rotation_range=30, width_shift_range=0.1, height_shift_range=0.1, shear_range=0.2, zoom_range=0.2, horizontal_flip=True, fill_mode=\"nearest\")\n",
        "total = 0\n",
        "print(\"[INFO] generating images...\")\n",
        "imageGen = aug.flow(image, batch_size=1, save_to_dir=args[\"output\"], save_prefix=args[\"prefix\"], save_format=\"jpg\")\n",
        "\n",
        "# loop over examples from our image data augmentation generator\n",
        "for image in imageGen:\n",
        "    # increment our counter\n",
        "    total += 1\n",
        "\n",
        "    # if we have reached 10 examples, break from the loop\n",
        "    if total == 10:\n",
        "        break\n",
        "\n",
        "\"\"\"\n",
        "\"\"\"\n",
        "print(\"[INFO] loading example image...\")\n",
        "image = load_img(\"kirito.jpg\")\n",
        "image = img_to_array(image)\n",
        "image = np.expand_dims(image, axis=0)\n",
        "aug = ImageDataGenerator(rotation_range=30, width_shift_range=0.1, height_shift_range=0.1, shear_range=0.2, zoom_range=0.2, horizontal_flip=True, fill_mode=\"nearest\")\n",
        "total = 0\n",
        "print(\"[INFO] generating images...\")\n",
        "imageGen = aug.flow(image, batch_size=1, save_to_dir=\"openfolder\", save_prefix=\"cat\", save_format=\"jpg\")\n",
        "# loop over examples from our image data augmentation generator\n",
        "for image in imageGen:\n",
        "    # increment our counter\n",
        "    total += 1\n",
        "    # if we have reached 10 examples, break from the loop\n",
        "    if total == 300:\n",
        "        break\n",
        "\n",
        "\"\"\""
      ],
      "execution_count": 0,
      "outputs": [
        {
          "output_type": "stream",
          "text": [
            "[INFO] loading example image...\n",
            "[INFO] generating images...\n"
          ],
          "name": "stdout"
        }
      ]
    },
    {
      "cell_type": "code",
      "metadata": {
        "id": "a4FDaOraD_uM",
        "colab_type": "code",
        "colab": {
          "base_uri": "https://localhost:8080/",
          "height": 34
        },
        "outputId": "7402ba77-634b-4f40-c8e5-004dce0ae98f"
      },
      "source": [
        "#@title Default title text\n",
        "import augmentation_demo\n",
        "print('Hello')"
      ],
      "execution_count": 8,
      "outputs": [
        {
          "output_type": "stream",
          "text": [
            "Hello\n"
          ],
          "name": "stdout"
        }
      ]
    },
    {
      "cell_type": "markdown",
      "metadata": {
        "id": "rMOJyC7kDyas",
        "colab_type": "text"
      },
      "source": [
        ""
      ]
    }
  ]
}