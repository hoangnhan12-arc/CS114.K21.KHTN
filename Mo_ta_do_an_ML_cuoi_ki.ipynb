{
  "nbformat": 4,
  "nbformat_minor": 0,
  "metadata": {
    "colab": {
      "name": "Mo_ta_do_an_ML_cuoi_ki.ipynb",
      "provenance": [],
      "authorship_tag": "ABX9TyOySrgkSd31D0F8Z/v01A5S",
      "include_colab_link": true
    },
    "kernelspec": {
      "name": "python3",
      "display_name": "Python 3"
    }
  },
  "cells": [
    {
      "cell_type": "markdown",
      "metadata": {
        "id": "view-in-github",
        "colab_type": "text"
      },
      "source": [
        "<a href=\"https://colab.research.google.com/github/hoangnhan12-arc/CS114.K21.KHTN/blob/master/Mo_ta_do_an_ML_cuoi_ki.ipynb\" target=\"_parent\"><img src=\"https://colab.research.google.com/assets/colab-badge.svg\" alt=\"Open In Colab\"/></a>"
      ]
    },
    {
      "cell_type": "code",
      "metadata": {
        "id": "H_PDw4kjxgYL",
        "colab_type": "code",
        "colab": {}
      },
      "source": [
        ""
      ],
      "execution_count": 0,
      "outputs": []
    },
    {
      "cell_type": "markdown",
      "metadata": {
        "id": "aqoiRQr6xox7",
        "colab_type": "text"
      },
      "source": [
        "ĐỒ ÁN CUỐI KÌ MACHINE LEARNING : NHẬN DIỆN BIỂN BÁO GIAO THÔNG \n",
        "\n",
        "MÔ TẢ ĐỒ ÁN  \n",
        "\n",
        "1)MÔ TẢ INPUT, OUTPUT \n",
        "\n",
        "INPUT : Một hoặc nhiều ảnh về biển báo để nhận diện \n",
        "ví dụ: \n",
        "![alt text](https://songiaothongtiendung.com/image/cache/data/songiaothong/image-500x500.jpg)\n",
        "\n",
        "OUTPUT: Biển báo đó thuộc nhóm, loại biển báo gì? Tác dụng biển báo đó ra sao? \n",
        " Ví dụ:\n",
        " Biển báo thuộc loại biển báo cấm, cấm quay đầu xe. Tác dụng biển báo này là ra lệnh cấm quay đầu xe trong bất kì trường hợp nào\n",
        "\n",
        " \n",
        "\n",
        "2)MÔ TẢ BỘ DỮ LIỆU \n",
        "\n",
        "- Cách thức xây dựng bộ dữ liệu: \n",
        "\n",
        "+ Lấy từ nhiều nguồn khác nhau, trên internet (70%), chụp biển báo bằng điện thoại camera(10%), dữ liệu tăng cường nhoừ thuật toán(20%) \n",
        "\n",
        "+ Số lượng ảnh và độ đa dạng :  Rơi vào khoảng 1000 đến 2000 ảnh,  trải đều ra tất cả các nhóm biển báo và loại biển báo. Những biển báo thường xuyên xuất hiện thì số lượng ảnh nhiều hơn một chút. Để biết được những loại biển báo thường xuyên xuất hiện thì em sẽ đi quanh các khu vực gần làng đại học để quan sát và đánh giá. \n",
        "\n",
        "+ Các thao tác tiền xử lí dữ liệu: \n",
        "\n",
        "> Loại bỏ những ảnh mờ, không rõ ảnh đó là ảnh về biển báo gì \n",
        "\n",
        "> Tăng cường dữ liệu bằng thuật toán \n",
        "\n",
        "+ Phân chia dữ liệu: \n",
        "\n",
        "> Train data: 80% tổng số ảnh \n",
        "\n",
        "> Test data: 20% tổng số ảnh \n",
        "\n",
        "3) MÔ TẢ VỀ ĐẶC TRƯNG \n",
        "\n",
        "- HÌnh dạng của biển báo đặc trưng này rất quan trọng vì mỗi nhóm biển báo khác nhau đều có hình dạng khác nhau,  chắc không ai muốn hiểu nhầm biển báo cấm và biển báo chỉ dẫn đâu nhỉ? \n",
        "\n",
        "- Màu sắc của biển báo: đặc trưng này cũng quan trọng không kém vì mỗi nhóm, loại biển báo khác nhau đều có màu khác nhau. \n",
        "\n",
        "- Hình ảnh trong biển báo: cũng là một yếu tố rất quan trọng  vì nội dung trong biển báo cho ta biết biển báo đó muốn nói gì \n",
        "\n",
        "4) MÔ TẢ VỀ THUẬT TOÁN MÁY HỌC: \n",
        "\n",
        "- Sử dụng KNN(k-nearest neighbos) để phát triển thuật toán \n",
        "- \n",
        "\n",
        "5) CÀI ĐẶT, TINH CHỈNH THAM SỐ: \n",
        "- Sau khi kiểm tra tính đúng đắn của tập dữ liệu test, nếu thuật toán đúng trên 98% thì ta có thể xem xét với những dữ liệu test mới, không có trong tập dữ liệu ban đầu mà ta đã chuẩn bị\n",
        "- Nếu dưới 98%, ta có 2 hướng giải quyết:\n",
        "> Tinh chỉnh tham số của model mình đã tạo sao cho phù hợp hơn\n",
        "> Cải tiến thuật toán hoặc đổi thuật toán(không ưu tiên việc thay đổi thuật toán)\n",
        "\n",
        " "
      ]
    }
  ]
}