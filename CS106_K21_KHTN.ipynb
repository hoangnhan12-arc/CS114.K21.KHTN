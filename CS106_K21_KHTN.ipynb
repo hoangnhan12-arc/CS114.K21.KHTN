{
  "nbformat": 4,
  "nbformat_minor": 0,
  "metadata": {
    "colab": {
      "name": "CS106.K21.KHTN.ipynb",
      "provenance": [],
      "collapsed_sections": [],
      "authorship_tag": "ABX9TyPc4GMz+lUmuqcPa5Avaepr",
      "include_colab_link": true
    },
    "kernelspec": {
      "name": "python3",
      "display_name": "Python 3"
    }
  },
  "cells": [
    {
      "cell_type": "markdown",
      "metadata": {
        "id": "view-in-github",
        "colab_type": "text"
      },
      "source": [
        "<a href=\"https://colab.research.google.com/github/hoangnhan12-arc/CS114.K21.KHTN/blob/master/CS106_K21_KHTN.ipynb\" target=\"_parent\"><img src=\"https://colab.research.google.com/assets/colab-badge.svg\" alt=\"Open In Colab\"/></a>"
      ]
    },
    {
      "cell_type": "code",
      "metadata": {
        "id": "zrIFpQPzpkUz",
        "colab_type": "code",
        "colab": {}
      },
      "source": [
        "import numpy as np\n",
        "import gym\n"
      ],
      "execution_count": 0,
      "outputs": []
    },
    {
      "cell_type": "code",
      "metadata": {
        "id": "x_ekSppgPjNJ",
        "colab_type": "code",
        "colab": {}
      },
      "source": [
        "env = gym.make('Taxi-v3')"
      ],
      "execution_count": 0,
      "outputs": []
    },
    {
      "cell_type": "code",
      "metadata": {
        "id": "U4wc51lbuY_6",
        "colab_type": "code",
        "outputId": "b72923e5-05f2-4d4f-e6ca-ed28aa41e6fe",
        "colab": {
          "base_uri": "https://localhost:8080/",
          "height": 153
        }
      },
      "source": [
        "env.reset()\n",
        "env.render()"
      ],
      "execution_count": 133,
      "outputs": [
        {
          "output_type": "stream",
          "text": [
            "+---------+\n",
            "|R: | : :\u001b[34;1mG\u001b[0m|\n",
            "| : | : : |\n",
            "| : : :\u001b[43m \u001b[0m: |\n",
            "| | : | : |\n",
            "|Y| : |\u001b[35mB\u001b[0m: |\n",
            "+---------+\n",
            "\n"
          ],
          "name": "stdout"
        }
      ]
    },
    {
      "cell_type": "code",
      "metadata": {
        "id": "VNrBqYMf8sdE",
        "colab_type": "code",
        "outputId": "9344e005-caa3-496d-fda0-f2bb312a41e3",
        "colab": {
          "base_uri": "https://localhost:8080/",
          "height": 34
        }
      },
      "source": [
        "env.P[15][2]"
      ],
      "execution_count": 134,
      "outputs": [
        {
          "output_type": "execute_result",
          "data": {
            "text/plain": [
              "[(1.0, 35, -1, False)]"
            ]
          },
          "metadata": {
            "tags": []
          },
          "execution_count": 134
        }
      ]
    },
    {
      "cell_type": "code",
      "metadata": {
        "id": "WYyM2pY0Qbyy",
        "colab_type": "code",
        "outputId": "ba255601-0686-4f69-c2a8-3c55628bc512",
        "colab": {
          "base_uri": "https://localhost:8080/",
          "height": 34
        }
      },
      "source": [
        "env.action_space.n\n"
      ],
      "execution_count": 135,
      "outputs": [
        {
          "output_type": "execute_result",
          "data": {
            "text/plain": [
              "6"
            ]
          },
          "metadata": {
            "tags": []
          },
          "execution_count": 135
        }
      ]
    },
    {
      "cell_type": "code",
      "metadata": {
        "id": "9IbxLqS0RGCF",
        "colab_type": "code",
        "outputId": "fec531c0-b5e0-4d01-f3a5-848ef62451d4",
        "colab": {
          "base_uri": "https://localhost:8080/",
          "height": 34
        }
      },
      "source": [
        "env.observation_space.n"
      ],
      "execution_count": 136,
      "outputs": [
        {
          "output_type": "execute_result",
          "data": {
            "text/plain": [
              "500"
            ]
          },
          "metadata": {
            "tags": []
          },
          "execution_count": 136
        }
      ]
    },
    {
      "cell_type": "code",
      "metadata": {
        "id": "FCrVTT9Z9Df7",
        "colab_type": "code",
        "outputId": "f507f12d-7f6e-4d6c-bfcd-e30dcb502523",
        "colab": {
          "base_uri": "https://localhost:8080/",
          "height": 34
        }
      },
      "source": [
        "import numpy as np\n",
        "import gym\n",
        "env = gym.make('Taxi-v3')\n",
        "\n",
        "env.reset()"
      ],
      "execution_count": 137,
      "outputs": [
        {
          "output_type": "execute_result",
          "data": {
            "text/plain": [
              "433"
            ]
          },
          "metadata": {
            "tags": []
          },
          "execution_count": 137
        }
      ]
    },
    {
      "cell_type": "code",
      "metadata": {
        "id": "kboHukGGuhmK",
        "colab_type": "code",
        "colab": {}
      },
      "source": [
        "def value_iteration(env, max_iters, gamma=0.9):\n",
        "    v_values = np.zeros(env.observation_space.n)\n",
        "    for i in range(max_iters):\n",
        "        prev_v_values = np.copy(v_values)\n",
        "\n",
        "        # Compute value for each state\n",
        "        for state in range(env.observation_space.n):\n",
        "            q_values = []\n",
        "\n",
        "            # Compute q-value for each action\n",
        "            for action in range(env.action_space.n):                \n",
        "                q_value = 0\n",
        "                for prob, next_state, reward, done in env.P[state][action]:\n",
        "                    q_value += prob * (reward + gamma * prev_v_values[next_state])\n",
        "                q_values.append(q_value)\n",
        "            \n",
        "            # Select the best action\n",
        "            best_action = np.argmax(np.asarray(q_values))\n",
        "            v_values[state] = q_values[best_action]\n",
        "        \n",
        "        # Check convergence\n",
        "        if np.all(np.isclose(v_values, prev_v_values)):\n",
        "            print('Converged at {}-th iteration.'.format(i))\n",
        "            break\n",
        "    \n",
        "    return v_values\n"
      ],
      "execution_count": 0,
      "outputs": []
    },
    {
      "cell_type": "code",
      "metadata": {
        "id": "28xX5gPTxrH4",
        "colab_type": "code",
        "colab": {}
      },
      "source": [
        "def policy_extraction(env, v_values, gamma=0.9):\n",
        "    policy = np.zeros(env.observation_space.n, dtype=np.int)\n",
        "    \n",
        "    # Compute the best action for each state in the game\n",
        "    # Compute q-values for each (state-action) pair in the game\n",
        "    for state in range(env.observation_space.n):\n",
        "        q_values = []\n",
        "\n",
        "        # Compute q-values for each action\n",
        "        for action in range(env.action_space.n):\n",
        "            q_value = 0\n",
        "            for prob, next_state, reward, done in env.P[state][action]:\n",
        "                q_value += prob * (reward + gamma * v_values[next_state])\n",
        "            q_values.append(q_value)\n",
        "\n",
        "        # Select the best action\n",
        "        best_action = np.argmax(np.asarray(q_values))\n",
        "        policy[state] = best_action\n",
        "    \n",
        "    return policy\n",
        "\n",
        "\n"
      ],
      "execution_count": 0,
      "outputs": []
    },
    {
      "cell_type": "code",
      "metadata": {
        "id": "zWO5toACmD2I",
        "colab_type": "code",
        "outputId": "91078e0f-4924-4777-e47a-deebf0b89133",
        "colab": {
          "base_uri": "https://localhost:8080/",
          "height": 34
        }
      },
      "source": [
        "v_values = value_iteration(env, max_iters=1000, gamma=0.9)\n"
      ],
      "execution_count": 140,
      "outputs": [
        {
          "output_type": "stream",
          "text": [
            "Converged at 116-th iteration.\n"
          ],
          "name": "stdout"
        }
      ]
    },
    {
      "cell_type": "code",
      "metadata": {
        "id": "n8MDhH2omJs5",
        "colab_type": "code",
        "colab": {}
      },
      "source": [
        "policy = policy_extraction(env, v_values, gamma=0.9)"
      ],
      "execution_count": 0,
      "outputs": []
    },
    {
      "cell_type": "code",
      "metadata": {
        "id": "teNGegPCmuaJ",
        "colab_type": "code",
        "outputId": "bd95def8-019d-451a-85c5-f50957fc3b57",
        "colab": {
          "base_uri": "https://localhost:8080/",
          "height": 255
        }
      },
      "source": [
        "print(policy)"
      ],
      "execution_count": 142,
      "outputs": [
        {
          "output_type": "stream",
          "text": [
            "[4 4 4 4 0 0 0 0 0 0 0 0 0 0 0 0 5 0 0 0 3 3 3 3 0 0 0 0 0 0 0 0 0 0 0 0 3\n",
            " 0 0 0 0 0 0 0 2 2 2 2 0 0 0 0 0 0 0 0 0 2 0 0 0 0 0 0 2 2 2 2 0 0 0 0 0 0\n",
            " 0 0 0 2 0 0 0 0 0 0 4 4 4 4 0 0 0 0 0 0 0 0 0 5 0 0 1 1 1 1 0 0 0 0 0 0 0\n",
            " 0 0 0 0 0 1 0 0 0 1 1 1 1 0 0 0 0 0 0 0 0 0 0 0 0 1 0 0 0 0 0 0 0 1 1 1 1\n",
            " 0 0 0 0 0 0 0 0 0 1 0 0 0 0 0 0 1 1 1 1 0 0 0 0 0 0 0 0 0 1 0 0 0 0 0 0 1\n",
            " 1 1 1 0 0 0 0 0 0 0 0 0 1 0 0 1 1 1 1 2 2 2 2 0 0 0 0 2 2 2 2 1 2 0 2 1 1\n",
            " 1 1 2 2 2 2 3 3 3 3 2 2 2 2 1 2 3 2 3 3 3 3 1 1 1 1 3 3 3 3 2 2 2 2 3 1 3\n",
            " 2 3 3 3 3 1 1 1 1 3 3 3 3 0 0 0 0 3 1 3 0 3 3 3 3 1 1 1 1 3 3 3 3 0 0 0 0\n",
            " 3 1 3 0 1 1 1 1 1 1 1 1 0 0 0 0 1 1 1 1 1 1 0 1 1 1 1 1 1 1 1 1 1 1 1 1 1\n",
            " 1 1 1 1 1 1 1 1 1 1 1 1 1 1 1 1 1 1 1 1 1 1 1 1 1 1 1 1 1 1 1 1 1 1 1 1 1\n",
            " 1 1 0 0 0 0 1 1 1 0 1 1 1 1 1 1 1 1 1 1 1 1 0 0 0 0 1 1 1 0 1 1 1 1 1 1 1\n",
            " 1 4 4 4 4 1 1 1 1 1 1 5 1 1 1 1 1 1 1 1 1 1 1 1 1 1 1 1 1 1 1 1 1 1 1 1 1\n",
            " 1 1 1 1 1 1 1 1 1 1 1 1 1 1 1 1 1 1 1 1 1 1 1 1 1 1 1 1 4 4 4 4 1 1 1 5 1\n",
            " 1 1 1 1 1 1 1 1 1 1 1 3 3 3 3 1 1 1 3]\n"
          ],
          "name": "stdout"
        }
      ]
    },
    {
      "cell_type": "code",
      "metadata": {
        "id": "3Ftx1klLmwr4",
        "colab_type": "code",
        "outputId": "d04bb209-cdf5-4f8a-effe-fc9217d4613a",
        "colab": {
          "base_uri": "https://localhost:8080/",
          "height": 153
        }
      },
      "source": [
        "env.render()"
      ],
      "execution_count": 143,
      "outputs": [
        {
          "output_type": "stream",
          "text": [
            "+---------+\n",
            "|R: | : :\u001b[35mG\u001b[0m|\n",
            "| : | : : |\n",
            "| : : : : |\n",
            "| | : | : |\n",
            "|Y|\u001b[43m \u001b[0m: |\u001b[34;1mB\u001b[0m: |\n",
            "+---------+\n",
            "\n"
          ],
          "name": "stdout"
        }
      ]
    },
    {
      "cell_type": "code",
      "metadata": {
        "id": "Wa12y7jz1BQB",
        "colab_type": "code",
        "colab": {}
      },
      "source": [
        "def play(env, policy):\n",
        "  state = env.reset()\n",
        "  steps = 0\n",
        "  done = False\n",
        "  while not done:\n",
        "    action = policy[state]\n",
        "    next_state, reward, done, info = env.step(action)\n",
        "    steps += 1\n",
        "    #env.render()\n",
        "    state = next_state\n",
        "  #print('# steps: {}'.format(steps))\n",
        "  return reward, steps"
      ],
      "execution_count": 0,
      "outputs": []
    },
    {
      "cell_type": "code",
      "metadata": {
        "id": "uLpg0UntpAmS",
        "colab_type": "code",
        "outputId": "cc97bc27-916a-4ca7-876d-4b42e5af7174",
        "colab": {
          "base_uri": "https://localhost:8080/",
          "height": 34
        }
      },
      "source": [
        "play(env, policy)"
      ],
      "execution_count": 145,
      "outputs": [
        {
          "output_type": "execute_result",
          "data": {
            "text/plain": [
              "(20, 11)"
            ]
          },
          "metadata": {
            "tags": []
          },
          "execution_count": 145
        }
      ]
    },
    {
      "cell_type": "code",
      "metadata": {
        "id": "jZ9ZVPNF3s8x",
        "colab_type": "code",
        "colab": {}
      },
      "source": [
        "def play_multiple_times(env, policy):\n",
        "    num_episodes = 1000\n",
        "    list_of_steps = []\n",
        "    num_failures = 0\n",
        "    \n",
        "    for i in range(num_episodes):\n",
        "        reward, steps = play(env, policy)\n",
        "        if reward >0 :\n",
        "            list_of_steps.append(steps)\n",
        "        else:\n",
        "            num_failures += 1\n",
        "\n",
        "    print('# failures: {}/{}'.format(num_failures, num_episodes))\n",
        "    print('avg. # steps: {}'.format(np.mean(list_of_steps)))\n"
      ],
      "execution_count": 0,
      "outputs": []
    },
    {
      "cell_type": "code",
      "metadata": {
        "id": "sZe56vY1OlKd",
        "colab_type": "code",
        "outputId": "289a7a52-e4a6-4879-e51e-a38bbe75c8f1",
        "colab": {
          "base_uri": "https://localhost:8080/",
          "height": 51
        }
      },
      "source": [
        "play_multiple_times(env, policy)"
      ],
      "execution_count": 147,
      "outputs": [
        {
          "output_type": "stream",
          "text": [
            "# failures: 0/1000\n",
            "avg. # steps: 12.986\n"
          ],
          "name": "stdout"
        }
      ]
    },
    {
      "cell_type": "code",
      "metadata": {
        "id": "2pDt8yN236i-",
        "colab_type": "code",
        "colab": {
          "base_uri": "https://localhost:8080/",
          "height": 34
        },
        "outputId": "05acddde-b692-46fd-d774-6fad120e7018"
      },
      "source": [
        "env.reset()"
      ],
      "execution_count": 148,
      "outputs": [
        {
          "output_type": "execute_result",
          "data": {
            "text/plain": [
              "373"
            ]
          },
          "metadata": {
            "tags": []
          },
          "execution_count": 148
        }
      ]
    },
    {
      "cell_type": "code",
      "metadata": {
        "id": "FW0AqfhJ4CaQ",
        "colab_type": "code",
        "colab": {}
      },
      "source": [
        "env = gym.make('FrozenLake8x8-v0')"
      ],
      "execution_count": 0,
      "outputs": []
    },
    {
      "cell_type": "code",
      "metadata": {
        "id": "foMLKZFC31wC",
        "colab_type": "code",
        "colab": {}
      },
      "source": [
        "def play_multiple_times2(env, policy):\n",
        "    num_episodes = 1000\n",
        "    list_of_steps = []\n",
        "    num_failures = 0\n",
        "    \n",
        "    for i in range(num_episodes):\n",
        "        reward, steps = play(env, policy)\n",
        "        if reward == 1 :\n",
        "            list_of_steps.append(steps)\n",
        "        else:\n",
        "            num_failures += 1\n",
        "\n",
        "    print('# failures: {}/{}'.format(num_failures, num_episodes))\n",
        "    print('avg. # steps: {}'.format(np.mean(list_of_steps)))\n"
      ],
      "execution_count": 0,
      "outputs": []
    },
    {
      "cell_type": "code",
      "metadata": {
        "id": "bDgCnbE85Oq9",
        "colab_type": "code",
        "colab": {
          "base_uri": "https://localhost:8080/",
          "height": 34
        },
        "outputId": "b1071e68-704c-41ec-fee0-847a48ee6cb8"
      },
      "source": [
        "v_values = value_iteration(env, max_iters=1000, gamma=0.9)\n"
      ],
      "execution_count": 151,
      "outputs": [
        {
          "output_type": "stream",
          "text": [
            "Converged at 117-th iteration.\n"
          ],
          "name": "stdout"
        }
      ]
    },
    {
      "cell_type": "code",
      "metadata": {
        "id": "ltc7w2og4V_j",
        "colab_type": "code",
        "colab": {}
      },
      "source": [
        "policy = policy_extraction(env, v_values, gamma=0.9)"
      ],
      "execution_count": 0,
      "outputs": []
    },
    {
      "cell_type": "code",
      "metadata": {
        "id": "uChhKcmk4H2h",
        "colab_type": "code",
        "colab": {
          "base_uri": "https://localhost:8080/",
          "height": 51
        },
        "outputId": "c8c6d834-762a-47df-9a53-4ba4b4bbfc37"
      },
      "source": [
        "play_multiple_times2(env, policy)"
      ],
      "execution_count": 153,
      "outputs": [
        {
          "output_type": "stream",
          "text": [
            "# failures: 262/1000\n",
            "avg. # steps: 72.33468834688347\n"
          ],
          "name": "stdout"
        }
      ]
    },
    {
      "cell_type": "markdown",
      "metadata": {
        "id": "9txQvhVno9M9",
        "colab_type": "text"
      },
      "source": [
        "Ưu điểm : \n",
        "- Độ phức tạp thuật toán là O(S^2*A) cho mỗi lần lặp\n",
        "- Thuật toán sẽ tối ưu được kết quả mà mình mong muốn\n",
        "- \n",
        "Nhược điểm :\n",
        "- Nếu số lượng trạng thái lớn thì sẽ tốn nhiều chi phí và thời gian\n",
        "- Vì phải xét tất cả các hành động trong 1 trạng thái nên thời gian sẽ tăng theo cấp số nhân, mà nếu quá nhiều hành động và trạng thái cùng 1 lúc thì sẽ gặp nhiều khó khăn\n",
        "Trường hợp thuật toán hoạt động không hiệu quả : \n",
        "- Quá nhiều trạng thái\n",
        "- Chỉ số gamma thấp"
      ]
    }
  ]
}